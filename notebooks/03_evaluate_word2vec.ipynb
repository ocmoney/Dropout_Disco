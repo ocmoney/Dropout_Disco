{
 "cells": [
  {
   "cell_type": "markdown",
   "metadata": {},
   "source": [
    "# Evaluate Word2Vec Embeddings\n",
    "\n",
    "**Goal:** Load the trained CBOW model state and vocabulary to evaluate the quality of the learned word embeddings.\n",
    "\n",
    "**Evaluations:**\n",
    "1.  Find nearest neighbors for given words.\n",
    "2.  Perform word analogy tasks (e.g., king - man + woman = queen)."
   ]
  },
  {
   "cell_type": "markdown",
   "metadata": {},
   "source": [
    "## ⚙️ Setup and Imports"
   ]
  },
  {
   "cell_type": "code",
   "execution_count": 1,
   "id": "23234464",
   "metadata": {},
   "outputs": [
    {
     "name": "stdout",
     "output_type": "stream",
     "text": [
      "Appended project root: /Users/Oks_WORKSPACE/Desktop/DEV/W1_project/Dropout_Disco\n",
      "⚙️  Configuring DropoutDisco logging...\n",
      "  Logger 'DropoutDisco' level set to: INFO\n",
      "  ✅ Console logging handler added.\n",
      "  ✅ File logging handler added: logs/dropout_disco.log\n",
      "2025-04-15 16:20:46 | DropoutDisco | INFO     | [logging.py:102] | 🎉 Logging system initialized successfully!\n",
      "--- Running src/__init__.py ---\n"
     ]
    }
   ],
   "source": [
    "import torch\n",
    "import torch.nn as nn\n",
    "import numpy as np\n",
    "import os\n",
    "import sys\n",
    "\n",
    "# Add project root to path to allow importing utils and src\n",
    "# Adjust path if your notebook is not in 'notebooks/' or project root differs\n",
    "project_root = os.path.abspath(os.path.join(os.getcwd(), '..'))\n",
    "if project_root not in sys.path:\n",
    "    sys.path.append(project_root)\n",
    "    print(f\"Appended project root: {project_root}\")\n",
    "\n",
    "# Import project modules\n",
    "from utils import logger, get_device\n",
    "from src.word2vec.vocabulary import Vocabulary\n",
    "from src.word2vec.model import CBOW\n",
    "\n",
    "# Configure display\n",
    "%matplotlib inline \n",
    "# Potentially configure pandas display options if needed\n",
    "import pandas as pd\n",
    "pd.options.display.max_rows = 100"
   ]
  },
  {
   "cell_type": "markdown",
   "id": "f1997fff",
   "metadata": {},
   "source": [
    "## 💾 Load Vocabulary and Model"
   ]
  },
  {
   "cell_type": "code",
   "execution_count": 2,
   "id": "663c2b56",
   "metadata": {},
   "outputs": [
    {
     "name": "stdout",
     "output_type": "stream",
     "text": [
      "2025-04-15 16:20:46 | DropoutDisco | INFO     | [297881156.py:55] | --- Evaluating Run: CBOW_D128_W3_NW10M_MF5_E5_LR0.001_BS512 ---\n",
      "2025-04-15 16:20:46 | DropoutDisco | INFO     | [297881156.py:56] |   Attempting to load Vocab: /Users/Oks_WORKSPACE/Desktop/DEV/W1_project/Dropout_Disco/models/word2vec/text8_vocab_NW10M_MF5.json\n",
      "2025-04-15 16:20:46 | DropoutDisco | INFO     | [297881156.py:57] |   Attempting to load Model State: /Users/Oks_WORKSPACE/Desktop/DEV/W1_project/Dropout_Disco/models/word2vec/CBOW_D128_W3_NW10M_MF5_E5_LR0.001_BS512/model_state.pth\n",
      "2025-04-15 16:20:46 | DropoutDisco | INFO     | [vocabulary.py:110] | Attempting to load vocabulary from: /Users/Oks_WORKSPACE/Desktop/DEV/W1_project/Dropout_Disco/models/word2vec/text8_vocab_NW10M_MF5.json\n",
      "2025-04-15 16:20:46 | DropoutDisco | INFO     | [vocabulary.py:123] | 📚 Vocab loaded (53,408 words) from /Users/Oks_WORKSPACE/Desktop/DEV/W1_project/Dropout_Disco/models/word2vec/text8_vocab_NW10M_MF5.json\n",
      "2025-04-15 16:20:46 | DropoutDisco | INFO     | [device_setup.py:39] | ✅ MPS device found and available (Built: True). Selecting MPS.\n",
      "2025-04-15 16:20:46 | DropoutDisco | INFO     | [device_setup.py:51] | ✨ Selected compute device: MPS\n",
      "2025-04-15 16:20:46 | DropoutDisco | INFO     | [297881156.py:79] | 🧠 Loading model state from: /Users/Oks_WORKSPACE/Desktop/DEV/W1_project/Dropout_Disco/models/word2vec/CBOW_D128_W3_NW10M_MF5_E5_LR0.001_BS512/model_state.pth\n",
      "2025-04-15 16:20:46 | DropoutDisco | INFO     | [297881156.py:81] |   Model state keys loaded: ['embeddings.weight', 'linear.weight', 'linear.bias']\n",
      "2025-04-15 16:20:46 | DropoutDisco | INFO     | [297881156.py:87] |   Extracted embedding matrix. Shape: torch.Size([53408, 128])\n",
      "2025-04-15 16:20:46 | DropoutDisco | INFO     | [297881156.py:91] |   Inferred Embedding Dimension: 128\n",
      "2025-04-15 16:20:46 | DropoutDisco | INFO     | [297881156.py:101] | ✅ Embedding matrix shape matches vocab size.\n",
      "2025-04-15 16:20:46 | DropoutDisco | INFO     | [297881156.py:115] | ✅✅ Vocabulary and Embedding Matrix loaded successfully!\n"
     ]
    }
   ],
   "source": [
    "import torch\n",
    "import torch.nn as nn\n",
    "import numpy as np\n",
    "import os\n",
    "import sys\n",
    "\n",
    "# Ensure project root is added to path (assuming notebook is in 'notebooks/')\n",
    "project_root = os.path.abspath(os.path.join(os.getcwd(), '..'))\n",
    "if project_root not in sys.path:\n",
    "    sys.path.append(project_root)\n",
    "    # print(f\"Appended project root: {project_root}\") # Optional print\n",
    "\n",
    "# Import project modules\n",
    "from utils import logger, get_device\n",
    "from src.word2vec.vocabulary import Vocabulary\n",
    "from src.word2vec.model import CBOW\n",
    "\n",
    "# Helper function (copied from train_word2vec.py or import if utils)\n",
    "def format_num_words(num_words):\n",
    "    \"\"\"Formats large numbers for filenames (e.g., 10M, 500k, All).\"\"\"\n",
    "    if num_words == -1: return \"All\"\n",
    "    if num_words >= 1_000_000: return f\"{num_words // 1_000_000}M\"\n",
    "    if num_words >= 1_000: return f\"{num_words // 1_000}k\"\n",
    "    return str(num_words)\n",
    "\n",
    "# --- Configuration: SET THESE TO MATCH THE RUN YOU WANT TO EVALUATE ---\n",
    "# Parameters from the successful run (10M words, 5 epochs, etc.)\n",
    "RUN_CORPUS_NAME = \"text8\" # From the filename used\n",
    "RUN_NUM_WORDS = 10000000\n",
    "RUN_MIN_FREQ = 5\n",
    "RUN_EMBED_DIM = 128 # We will verify/infer this from the loaded model\n",
    "RUN_WINDOW_SIZE = 3\n",
    "RUN_EPOCHS = 5\n",
    "RUN_LR = 0.001\n",
    "RUN_BATCH_SIZE = 512\n",
    "BASE_MODEL_DIR = os.path.join(project_root, \"models/word2vec\") # Base save dir\n",
    "\n",
    "# --- Construct Paths based on Run Parameters ---\n",
    "nw_str = format_num_words(RUN_NUM_WORDS)\n",
    "\n",
    "# Vocabulary Filename\n",
    "vocab_filename = f\"{RUN_CORPUS_NAME}_vocab_NW{nw_str}_MF{RUN_MIN_FREQ}.json\"\n",
    "VOCAB_PATH = os.path.join(BASE_MODEL_DIR, vocab_filename)\n",
    "\n",
    "# Run-Specific Subdirectory Name\n",
    "run_name = (\n",
    "    f\"CBOW_D{RUN_EMBED_DIM}_W{RUN_WINDOW_SIZE}_NW{nw_str}_\"\n",
    "    f\"MF{RUN_MIN_FREQ}_E{RUN_EPOCHS}_LR{RUN_LR}_BS{RUN_BATCH_SIZE}\"\n",
    ")\n",
    "run_save_dir = os.path.join(BASE_MODEL_DIR, run_name)\n",
    "\n",
    "# Model State Filename (using standard name within run dir)\n",
    "MODEL_STATE_PATH = os.path.join(run_save_dir, \"model_state.pth\")\n",
    "\n",
    "logger.info(f\"--- Evaluating Run: {run_name} ---\")\n",
    "logger.info(f\"  Attempting to load Vocab: {VOCAB_PATH}\")\n",
    "logger.info(f\"  Attempting to load Model State: {MODEL_STATE_PATH}\")\n",
    "\n",
    "# --- Load Vocabulary ---\n",
    "vocab = None\n",
    "vocab_size = 0\n",
    "try:\n",
    "    if not os.path.exists(VOCAB_PATH):\n",
    "        logger.error(f\"❌ Vocabulary file not found at specified path!\")\n",
    "    else:\n",
    "        vocab = Vocabulary.load_vocab(VOCAB_PATH)\n",
    "        vocab_size = len(vocab)\n",
    "except Exception as e:\n",
    "    logger.error(f\"❌ Failed to load vocabulary: {e}\", exc_info=True)\n",
    "\n",
    "# --- Load Model State ---\n",
    "device = get_device() # Use MPS if available\n",
    "model_state_dict = None\n",
    "embedding_matrix = None\n",
    "loaded_embedding_dim = None # Variable to store inferred dimension\n",
    "\n",
    "if vocab and os.path.exists(MODEL_STATE_PATH):\n",
    "    try:\n",
    "        logger.info(f\"🧠 Loading model state from: {MODEL_STATE_PATH}\")\n",
    "        model_state_dict = torch.load(MODEL_STATE_PATH, map_location=torch.device('cpu'))\n",
    "        logger.info(f\"  Model state keys loaded: {list(model_state_dict.keys())}\")\n",
    "\n",
    "        # Extract the embedding matrix\n",
    "        if 'embeddings.weight' in model_state_dict:\n",
    "            # Clone and move to target device\n",
    "            embedding_matrix = model_state_dict['embeddings.weight'].clone().to(device)\n",
    "            logger.info(f\"  Extracted embedding matrix. Shape: {embedding_matrix.shape}\")\n",
    "\n",
    "            # Infer embedding dimension from loaded matrix\n",
    "            loaded_embedding_dim = embedding_matrix.shape[1]\n",
    "            logger.info(f\"  Inferred Embedding Dimension: {loaded_embedding_dim}\")\n",
    "\n",
    "            # Verify shape matches vocab size and inferred embed dim\n",
    "            if embedding_matrix.shape[0] != vocab_size:\n",
    "                logger.error(\n",
    "                    f\"❌ Shape mismatch! Embeddings rows ({embedding_matrix.shape[0]}) \"\n",
    "                    f\"!= Vocab size ({vocab_size}).\"\n",
    "                )\n",
    "                embedding_matrix = None # Invalidate\n",
    "            else:\n",
    "                logger.info(f\"✅ Embedding matrix shape matches vocab size.\")\n",
    "        else:\n",
    "            logger.error(\"❌ 'embeddings.weight' key not found in state dictionary!\")\n",
    "\n",
    "    except Exception as e:\n",
    "        logger.error(f\"❌ Failed to load model state: {e}\", exc_info=True)\n",
    "else:\n",
    "    if not vocab:\n",
    "        logger.error(\"Vocabulary not loaded, cannot load model state.\")\n",
    "    if not os.path.exists(MODEL_STATE_PATH):\n",
    "        logger.error(f\"Model state file not found: {MODEL_STATE_PATH}\")\n",
    "\n",
    "# --- Final Check ---\n",
    "if vocab and embedding_matrix is not None:\n",
    "     logger.info(\"✅✅ Vocabulary and Embedding Matrix loaded successfully!\")\n",
    "     # Update EMBEDDING_DIM if needed by subsequent cells, using the inferred value\n",
    "     EMBEDDING_DIM = loaded_embedding_dim\n",
    "else:\n",
    "     logger.error(\"🚨 Failed to load required artifacts for evaluation.\")"
   ]
  },
  {
   "cell_type": "markdown",
   "id": "00499c5f",
   "metadata": {},
   "source": [
    "## 🛠️ Evaluation Utility Functions"
   ]
  },
  {
   "cell_type": "code",
   "execution_count": 3,
   "id": "a257554b",
   "metadata": {},
   "outputs": [],
   "source": [
    "def get_embedding_vector(word: str) -> torch.Tensor | None:\n",
    "    \"\"\"Retrieves the learned embedding vector for a given word.\"\"\"\n",
    "    if not vocab or embedding_matrix is None:\n",
    "        logger.error(\"Vocabulary or embedding matrix not loaded.\")\n",
    "        return None\n",
    "    \n",
    "    word_idx = vocab.get_index(word)\n",
    "    if word_idx == vocab.unk_index and word != vocab.unk_token:\n",
    "        logger.warning(f\"Word '{word}' not in vocabulary, using <UNK> vector.\")\n",
    "        # Optionally return None if you don't want UNK vector for specific words\n",
    "        # return None \n",
    "    \n",
    "    # Ensure index is valid before accessing embedding matrix\n",
    "    if 0 <= word_idx < embedding_matrix.shape[0]:\n",
    "        return embedding_matrix[word_idx]\n",
    "    else:\n",
    "        logger.error(f\"Invalid index {word_idx} for word '{word}'.\")\n",
    "        return None\n",
    "\n",
    "def cosine_similarity(vec1: torch.Tensor, vec2: torch.Tensor) -> float:\n",
    "    \"\"\"Calculates cosine similarity between two vectors.\"\"\"\n",
    "    if vec1 is None or vec2 is None:\n",
    "        return 0.0\n",
    "    # Use torch functions for efficiency, ensure vectors are on same device\n",
    "    cos = nn.CosineSimilarity(dim=0)\n",
    "    # Ensure vectors are float type\n",
    "    return cos(vec1.float(), vec2.float()).item()\n",
    "\n",
    "def find_nearest_neighbors(input_word: str, top_n: int = 10):\n",
    "    \"\"\"Finds the most similar words based on cosine similarity.\"\"\"\n",
    "    if not vocab or embedding_matrix is None:\n",
    "        logger.error(\"Vocabulary or embedding matrix not loaded.\")\n",
    "        return\n",
    "    \n",
    "    input_vector = get_embedding_vector(input_word)\n",
    "    if input_vector is None:\n",
    "        logger.error(f\"Could not get embedding for '{input_word}'.\")\n",
    "        return\n",
    "\n",
    "    logger.info(f\"Finding nearest neighbors for '{input_word}'...\")\n",
    "    \n",
    "    # Calculate similarities with all words in the vocabulary\n",
    "    # Compute on the device where embedding_matrix resides\n",
    "    cos = nn.CosineSimilarity(dim=1)\n",
    "    similarities = cos(embedding_matrix.float(), input_vector.float().unsqueeze(0))\n",
    "    \n",
    "    # Get top N+1 indices (to exclude the input word itself)\n",
    "    # Add small check for top_n against vocab size\n",
    "    k = min(top_n + 1, len(vocab))\n",
    "    top_indices = torch.argsort(similarities, descending=True)[:k]\n",
    "    \n",
    "    print(f\"\\n--- Top {top_n} most similar words to '{input_word}' --- \")\n",
    "    results = []\n",
    "    for idx_tensor in top_indices:\n",
    "        idx = idx_tensor.item()\n",
    "        word = vocab.get_word(idx)\n",
    "        if word.lower() == input_word.lower(): # Simple check to skip input word\n",
    "            continue\n",
    "        sim = similarities[idx].item()\n",
    "        results.append({'Word': word, 'Similarity': sim})\n",
    "        if len(results) == top_n:\n",
    "             break\n",
    "             \n",
    "    if results:\n",
    "        display(pd.DataFrame(results))\n",
    "    else:\n",
    "        print(\"No similar words found (excluding input word).\")\n",
    "\n",
    "def word_analogy(word_a: str, word_b: str, word_c: str, top_n: int = 5):\n",
    "    \"\"\"Performs word analogy task: vec(a) - vec(b) + vec(c) ≈ vec(?) \"\"\"\n",
    "    if not vocab or embedding_matrix is None:\n",
    "        logger.error(\"Vocabulary or embedding matrix not loaded.\")\n",
    "        return\n",
    "\n",
    "    vec_a = get_embedding_vector(word_a)\n",
    "    vec_b = get_embedding_vector(word_b)\n",
    "    vec_c = get_embedding_vector(word_c)\n",
    "\n",
    "    if vec_a is None or vec_b is None or vec_c is None:\n",
    "        logger.error(f\"Could not get embeddings for one or more analogy words: '{word_a}', '{word_b}', '{word_c}'.\")\n",
    "        return\n",
    "\n",
    "    logger.info(f\"Performing analogy: '{word_a}' - '{word_b}' + '{word_c}' = ?\")\n",
    "\n",
    "    # Calculate the target vector\n",
    "    target_vector = (vec_a - vec_b + vec_c).float() # Ensure float\n",
    "\n",
    "    # Calculate similarities with all words\n",
    "    cos = nn.CosineSimilarity(dim=1)\n",
    "    similarities = cos(embedding_matrix.float(), target_vector.unsqueeze(0))\n",
    "\n",
    "    # Get top indices, excluding the input words\n",
    "    k = min(top_n + 3, len(vocab)) # +3 to account for excluding a, b, c\n",
    "    top_indices = torch.argsort(similarities, descending=True)[:k]\n",
    "\n",
    "    print(f\"\\n--- Top {top_n} analogy results --- \")\n",
    "    results = []\n",
    "    input_words = {word_a.lower(), word_b.lower(), word_c.lower()}\n",
    "    for idx_tensor in top_indices:\n",
    "        idx = idx_tensor.item()\n",
    "        word = vocab.get_word(idx)\n",
    "        # Exclude input words\n",
    "        if word.lower() in input_words:\n",
    "            continue \n",
    "        sim = similarities[idx].item()\n",
    "        results.append({'Word': word, 'Similarity': sim})\n",
    "        if len(results) == top_n:\n",
    "             break\n",
    "             \n",
    "    if results:\n",
    "        display(pd.DataFrame(results))\n",
    "    else:\n",
    "        print(\"No analogy results found (excluding input words).\")"
   ]
  },
  {
   "cell_type": "markdown",
   "id": "24ebf292",
   "metadata": {},
   "source": [
    "## ▶️ Run Evaluations"
   ]
  },
  {
   "cell_type": "code",
   "execution_count": 4,
   "id": "c7b9d3e5",
   "metadata": {},
   "outputs": [
    {
     "name": "stdout",
     "output_type": "stream",
     "text": [
      "2025-04-15 16:20:46 | DropoutDisco | INFO     | [3022521770.py:40] | Finding nearest neighbors for 'king'...\n",
      "\n",
      "--- Top 10 most similar words to 'king' --- \n"
     ]
    },
    {
     "data": {
      "application/vnd.microsoft.datawrangler.viewer.v0+json": {
       "columns": [
        {
         "name": "index",
         "rawType": "int64",
         "type": "integer"
        },
        {
         "name": "Word",
         "rawType": "object",
         "type": "string"
        },
        {
         "name": "Similarity",
         "rawType": "float64",
         "type": "float"
        }
       ],
       "conversionMethod": "pd.DataFrame",
       "ref": "4ed563fb-dce8-460a-9124-925808341a74",
       "rows": [
        [
         "0",
         "kings",
         "0.44064465165138245"
        ],
        [
         "1",
         "son",
         "0.42684370279312134"
        ],
        [
         "2",
         "pope",
         "0.4263603687286377"
        ],
        [
         "3",
         "nebuchadnezzar",
         "0.4133337140083313"
        ],
        [
         "4",
         "usurper",
         "0.4010361433029175"
        ],
        [
         "5",
         "elector",
         "0.3996879756450653"
        ],
        [
         "6",
         "murad",
         "0.39956337213516235"
        ],
        [
         "7",
         "portugal",
         "0.3984837830066681"
        ],
        [
         "8",
         "throne",
         "0.38591253757476807"
        ],
        [
         "9",
         "emperor",
         "0.38151758909225464"
        ]
       ],
       "shape": {
        "columns": 2,
        "rows": 10
       }
      },
      "text/html": [
       "<div>\n",
       "<style scoped>\n",
       "    .dataframe tbody tr th:only-of-type {\n",
       "        vertical-align: middle;\n",
       "    }\n",
       "\n",
       "    .dataframe tbody tr th {\n",
       "        vertical-align: top;\n",
       "    }\n",
       "\n",
       "    .dataframe thead th {\n",
       "        text-align: right;\n",
       "    }\n",
       "</style>\n",
       "<table border=\"1\" class=\"dataframe\">\n",
       "  <thead>\n",
       "    <tr style=\"text-align: right;\">\n",
       "      <th></th>\n",
       "      <th>Word</th>\n",
       "      <th>Similarity</th>\n",
       "    </tr>\n",
       "  </thead>\n",
       "  <tbody>\n",
       "    <tr>\n",
       "      <th>0</th>\n",
       "      <td>kings</td>\n",
       "      <td>0.440645</td>\n",
       "    </tr>\n",
       "    <tr>\n",
       "      <th>1</th>\n",
       "      <td>son</td>\n",
       "      <td>0.426844</td>\n",
       "    </tr>\n",
       "    <tr>\n",
       "      <th>2</th>\n",
       "      <td>pope</td>\n",
       "      <td>0.426360</td>\n",
       "    </tr>\n",
       "    <tr>\n",
       "      <th>3</th>\n",
       "      <td>nebuchadnezzar</td>\n",
       "      <td>0.413334</td>\n",
       "    </tr>\n",
       "    <tr>\n",
       "      <th>4</th>\n",
       "      <td>usurper</td>\n",
       "      <td>0.401036</td>\n",
       "    </tr>\n",
       "    <tr>\n",
       "      <th>5</th>\n",
       "      <td>elector</td>\n",
       "      <td>0.399688</td>\n",
       "    </tr>\n",
       "    <tr>\n",
       "      <th>6</th>\n",
       "      <td>murad</td>\n",
       "      <td>0.399563</td>\n",
       "    </tr>\n",
       "    <tr>\n",
       "      <th>7</th>\n",
       "      <td>portugal</td>\n",
       "      <td>0.398484</td>\n",
       "    </tr>\n",
       "    <tr>\n",
       "      <th>8</th>\n",
       "      <td>throne</td>\n",
       "      <td>0.385913</td>\n",
       "    </tr>\n",
       "    <tr>\n",
       "      <th>9</th>\n",
       "      <td>emperor</td>\n",
       "      <td>0.381518</td>\n",
       "    </tr>\n",
       "  </tbody>\n",
       "</table>\n",
       "</div>"
      ],
      "text/plain": [
       "             Word  Similarity\n",
       "0           kings    0.440645\n",
       "1             son    0.426844\n",
       "2            pope    0.426360\n",
       "3  nebuchadnezzar    0.413334\n",
       "4         usurper    0.401036\n",
       "5         elector    0.399688\n",
       "6           murad    0.399563\n",
       "7        portugal    0.398484\n",
       "8          throne    0.385913\n",
       "9         emperor    0.381518"
      ]
     },
     "metadata": {},
     "output_type": "display_data"
    },
    {
     "name": "stdout",
     "output_type": "stream",
     "text": [
      "2025-04-15 16:20:46 | DropoutDisco | INFO     | [3022521770.py:40] | Finding nearest neighbors for 'computer'...\n",
      "\n",
      "--- Top 10 most similar words to 'computer' --- \n"
     ]
    },
    {
     "data": {
      "application/vnd.microsoft.datawrangler.viewer.v0+json": {
       "columns": [
        {
         "name": "index",
         "rawType": "int64",
         "type": "integer"
        },
        {
         "name": "Word",
         "rawType": "object",
         "type": "string"
        },
        {
         "name": "Similarity",
         "rawType": "float64",
         "type": "float"
        }
       ],
       "conversionMethod": "pd.DataFrame",
       "ref": "9428b364-aab8-4571-9862-6637db54f087",
       "rows": [
        [
         "0",
         "computers",
         "0.5409988164901733"
        ],
        [
         "1",
         "firewire",
         "0.4708091616630554"
        ],
        [
         "2",
         "gaming",
         "0.4092373847961426"
        ],
        [
         "3",
         "minicomputer",
         "0.3932688534259796"
        ],
        [
         "4",
         "computing",
         "0.3678140640258789"
        ],
        [
         "5",
         "peripherals",
         "0.36602145433425903"
        ],
        [
         "6",
         "software",
         "0.3656948208808899"
        ],
        [
         "7",
         "spreadsheet",
         "0.36210042238235474"
        ],
        [
         "8",
         "pc",
         "0.35984691977500916"
        ],
        [
         "9",
         "probabilistic",
         "0.3568717837333679"
        ]
       ],
       "shape": {
        "columns": 2,
        "rows": 10
       }
      },
      "text/html": [
       "<div>\n",
       "<style scoped>\n",
       "    .dataframe tbody tr th:only-of-type {\n",
       "        vertical-align: middle;\n",
       "    }\n",
       "\n",
       "    .dataframe tbody tr th {\n",
       "        vertical-align: top;\n",
       "    }\n",
       "\n",
       "    .dataframe thead th {\n",
       "        text-align: right;\n",
       "    }\n",
       "</style>\n",
       "<table border=\"1\" class=\"dataframe\">\n",
       "  <thead>\n",
       "    <tr style=\"text-align: right;\">\n",
       "      <th></th>\n",
       "      <th>Word</th>\n",
       "      <th>Similarity</th>\n",
       "    </tr>\n",
       "  </thead>\n",
       "  <tbody>\n",
       "    <tr>\n",
       "      <th>0</th>\n",
       "      <td>computers</td>\n",
       "      <td>0.540999</td>\n",
       "    </tr>\n",
       "    <tr>\n",
       "      <th>1</th>\n",
       "      <td>firewire</td>\n",
       "      <td>0.470809</td>\n",
       "    </tr>\n",
       "    <tr>\n",
       "      <th>2</th>\n",
       "      <td>gaming</td>\n",
       "      <td>0.409237</td>\n",
       "    </tr>\n",
       "    <tr>\n",
       "      <th>3</th>\n",
       "      <td>minicomputer</td>\n",
       "      <td>0.393269</td>\n",
       "    </tr>\n",
       "    <tr>\n",
       "      <th>4</th>\n",
       "      <td>computing</td>\n",
       "      <td>0.367814</td>\n",
       "    </tr>\n",
       "    <tr>\n",
       "      <th>5</th>\n",
       "      <td>peripherals</td>\n",
       "      <td>0.366021</td>\n",
       "    </tr>\n",
       "    <tr>\n",
       "      <th>6</th>\n",
       "      <td>software</td>\n",
       "      <td>0.365695</td>\n",
       "    </tr>\n",
       "    <tr>\n",
       "      <th>7</th>\n",
       "      <td>spreadsheet</td>\n",
       "      <td>0.362100</td>\n",
       "    </tr>\n",
       "    <tr>\n",
       "      <th>8</th>\n",
       "      <td>pc</td>\n",
       "      <td>0.359847</td>\n",
       "    </tr>\n",
       "    <tr>\n",
       "      <th>9</th>\n",
       "      <td>probabilistic</td>\n",
       "      <td>0.356872</td>\n",
       "    </tr>\n",
       "  </tbody>\n",
       "</table>\n",
       "</div>"
      ],
      "text/plain": [
       "            Word  Similarity\n",
       "0      computers    0.540999\n",
       "1       firewire    0.470809\n",
       "2         gaming    0.409237\n",
       "3   minicomputer    0.393269\n",
       "4      computing    0.367814\n",
       "5    peripherals    0.366021\n",
       "6       software    0.365695\n",
       "7    spreadsheet    0.362100\n",
       "8             pc    0.359847\n",
       "9  probabilistic    0.356872"
      ]
     },
     "metadata": {},
     "output_type": "display_data"
    },
    {
     "name": "stdout",
     "output_type": "stream",
     "text": [
      "2025-04-15 16:20:46 | DropoutDisco | INFO     | [3022521770.py:40] | Finding nearest neighbors for 'france'...\n",
      "\n",
      "--- Top 10 most similar words to 'france' --- \n"
     ]
    },
    {
     "data": {
      "application/vnd.microsoft.datawrangler.viewer.v0+json": {
       "columns": [
        {
         "name": "index",
         "rawType": "int64",
         "type": "integer"
        },
        {
         "name": "Word",
         "rawType": "object",
         "type": "string"
        },
        {
         "name": "Similarity",
         "rawType": "float64",
         "type": "float"
        }
       ],
       "conversionMethod": "pd.DataFrame",
       "ref": "ada6f6ce-aafe-43ed-8a6d-513309f59512",
       "rows": [
        [
         "0",
         "spain",
         "0.4588876962661743"
        ],
        [
         "1",
         "french",
         "0.45103174448013306"
        ],
        [
         "2",
         "belgium",
         "0.44885897636413574"
        ],
        [
         "3",
         "partement",
         "0.4281908869743347"
        ],
        [
         "4",
         "sicily",
         "0.4152430295944214"
        ],
        [
         "5",
         "cameroon",
         "0.40881985425949097"
        ],
        [
         "6",
         "zurich",
         "0.40047159790992737"
        ],
        [
         "7",
         "argentina",
         "0.39087995886802673"
        ],
        [
         "8",
         "netherlands",
         "0.3906489312648773"
        ],
        [
         "9",
         "ireland",
         "0.3896319270133972"
        ]
       ],
       "shape": {
        "columns": 2,
        "rows": 10
       }
      },
      "text/html": [
       "<div>\n",
       "<style scoped>\n",
       "    .dataframe tbody tr th:only-of-type {\n",
       "        vertical-align: middle;\n",
       "    }\n",
       "\n",
       "    .dataframe tbody tr th {\n",
       "        vertical-align: top;\n",
       "    }\n",
       "\n",
       "    .dataframe thead th {\n",
       "        text-align: right;\n",
       "    }\n",
       "</style>\n",
       "<table border=\"1\" class=\"dataframe\">\n",
       "  <thead>\n",
       "    <tr style=\"text-align: right;\">\n",
       "      <th></th>\n",
       "      <th>Word</th>\n",
       "      <th>Similarity</th>\n",
       "    </tr>\n",
       "  </thead>\n",
       "  <tbody>\n",
       "    <tr>\n",
       "      <th>0</th>\n",
       "      <td>spain</td>\n",
       "      <td>0.458888</td>\n",
       "    </tr>\n",
       "    <tr>\n",
       "      <th>1</th>\n",
       "      <td>french</td>\n",
       "      <td>0.451032</td>\n",
       "    </tr>\n",
       "    <tr>\n",
       "      <th>2</th>\n",
       "      <td>belgium</td>\n",
       "      <td>0.448859</td>\n",
       "    </tr>\n",
       "    <tr>\n",
       "      <th>3</th>\n",
       "      <td>partement</td>\n",
       "      <td>0.428191</td>\n",
       "    </tr>\n",
       "    <tr>\n",
       "      <th>4</th>\n",
       "      <td>sicily</td>\n",
       "      <td>0.415243</td>\n",
       "    </tr>\n",
       "    <tr>\n",
       "      <th>5</th>\n",
       "      <td>cameroon</td>\n",
       "      <td>0.408820</td>\n",
       "    </tr>\n",
       "    <tr>\n",
       "      <th>6</th>\n",
       "      <td>zurich</td>\n",
       "      <td>0.400472</td>\n",
       "    </tr>\n",
       "    <tr>\n",
       "      <th>7</th>\n",
       "      <td>argentina</td>\n",
       "      <td>0.390880</td>\n",
       "    </tr>\n",
       "    <tr>\n",
       "      <th>8</th>\n",
       "      <td>netherlands</td>\n",
       "      <td>0.390649</td>\n",
       "    </tr>\n",
       "    <tr>\n",
       "      <th>9</th>\n",
       "      <td>ireland</td>\n",
       "      <td>0.389632</td>\n",
       "    </tr>\n",
       "  </tbody>\n",
       "</table>\n",
       "</div>"
      ],
      "text/plain": [
       "          Word  Similarity\n",
       "0        spain    0.458888\n",
       "1       french    0.451032\n",
       "2      belgium    0.448859\n",
       "3    partement    0.428191\n",
       "4       sicily    0.415243\n",
       "5     cameroon    0.408820\n",
       "6       zurich    0.400472\n",
       "7    argentina    0.390880\n",
       "8  netherlands    0.390649\n",
       "9      ireland    0.389632"
      ]
     },
     "metadata": {},
     "output_type": "display_data"
    },
    {
     "name": "stdout",
     "output_type": "stream",
     "text": [
      "2025-04-15 16:20:46 | DropoutDisco | INFO     | [3022521770.py:40] | Finding nearest neighbors for 'history'...\n",
      "\n",
      "--- Top 10 most similar words to 'history' --- \n"
     ]
    },
    {
     "data": {
      "application/vnd.microsoft.datawrangler.viewer.v0+json": {
       "columns": [
        {
         "name": "index",
         "rawType": "int64",
         "type": "integer"
        },
        {
         "name": "Word",
         "rawType": "object",
         "type": "string"
        },
        {
         "name": "Similarity",
         "rawType": "float64",
         "type": "float"
        }
       ],
       "conversionMethod": "pd.DataFrame",
       "ref": "e8616f75-8b73-4412-81ce-dff1933ae869",
       "rows": [
        [
         "0",
         "demographics",
         "0.4288680851459503"
        ],
        [
         "1",
         "heritage",
         "0.41053640842437744"
        ],
        [
         "2",
         "origins",
         "0.39378875494003296"
        ],
        [
         "3",
         "timeline",
         "0.3897756338119507"
        ],
        [
         "4",
         "overview",
         "0.3851040005683899"
        ],
        [
         "5",
         "politics",
         "0.3663565516471863"
        ],
        [
         "6",
         "astronautics",
         "0.3621484637260437"
        ],
        [
         "7",
         "migrations",
         "0.35411086678504944"
        ],
        [
         "8",
         "yuma",
         "0.33735716342926025"
        ],
        [
         "9",
         "searchable",
         "0.3337970972061157"
        ]
       ],
       "shape": {
        "columns": 2,
        "rows": 10
       }
      },
      "text/html": [
       "<div>\n",
       "<style scoped>\n",
       "    .dataframe tbody tr th:only-of-type {\n",
       "        vertical-align: middle;\n",
       "    }\n",
       "\n",
       "    .dataframe tbody tr th {\n",
       "        vertical-align: top;\n",
       "    }\n",
       "\n",
       "    .dataframe thead th {\n",
       "        text-align: right;\n",
       "    }\n",
       "</style>\n",
       "<table border=\"1\" class=\"dataframe\">\n",
       "  <thead>\n",
       "    <tr style=\"text-align: right;\">\n",
       "      <th></th>\n",
       "      <th>Word</th>\n",
       "      <th>Similarity</th>\n",
       "    </tr>\n",
       "  </thead>\n",
       "  <tbody>\n",
       "    <tr>\n",
       "      <th>0</th>\n",
       "      <td>demographics</td>\n",
       "      <td>0.428868</td>\n",
       "    </tr>\n",
       "    <tr>\n",
       "      <th>1</th>\n",
       "      <td>heritage</td>\n",
       "      <td>0.410536</td>\n",
       "    </tr>\n",
       "    <tr>\n",
       "      <th>2</th>\n",
       "      <td>origins</td>\n",
       "      <td>0.393789</td>\n",
       "    </tr>\n",
       "    <tr>\n",
       "      <th>3</th>\n",
       "      <td>timeline</td>\n",
       "      <td>0.389776</td>\n",
       "    </tr>\n",
       "    <tr>\n",
       "      <th>4</th>\n",
       "      <td>overview</td>\n",
       "      <td>0.385104</td>\n",
       "    </tr>\n",
       "    <tr>\n",
       "      <th>5</th>\n",
       "      <td>politics</td>\n",
       "      <td>0.366357</td>\n",
       "    </tr>\n",
       "    <tr>\n",
       "      <th>6</th>\n",
       "      <td>astronautics</td>\n",
       "      <td>0.362148</td>\n",
       "    </tr>\n",
       "    <tr>\n",
       "      <th>7</th>\n",
       "      <td>migrations</td>\n",
       "      <td>0.354111</td>\n",
       "    </tr>\n",
       "    <tr>\n",
       "      <th>8</th>\n",
       "      <td>yuma</td>\n",
       "      <td>0.337357</td>\n",
       "    </tr>\n",
       "    <tr>\n",
       "      <th>9</th>\n",
       "      <td>searchable</td>\n",
       "      <td>0.333797</td>\n",
       "    </tr>\n",
       "  </tbody>\n",
       "</table>\n",
       "</div>"
      ],
      "text/plain": [
       "           Word  Similarity\n",
       "0  demographics    0.428868\n",
       "1      heritage    0.410536\n",
       "2       origins    0.393789\n",
       "3      timeline    0.389776\n",
       "4      overview    0.385104\n",
       "5      politics    0.366357\n",
       "6  astronautics    0.362148\n",
       "7    migrations    0.354111\n",
       "8          yuma    0.337357\n",
       "9    searchable    0.333797"
      ]
     },
     "metadata": {},
     "output_type": "display_data"
    },
    {
     "name": "stdout",
     "output_type": "stream",
     "text": [
      "2025-04-15 16:20:46 | DropoutDisco | INFO     | [3022521770.py:40] | Finding nearest neighbors for 'running'...\n",
      "\n",
      "--- Top 10 most similar words to 'running' --- \n"
     ]
    },
    {
     "data": {
      "application/vnd.microsoft.datawrangler.viewer.v0+json": {
       "columns": [
        {
         "name": "index",
         "rawType": "int64",
         "type": "integer"
        },
        {
         "name": "Word",
         "rawType": "object",
         "type": "string"
        },
        {
         "name": "Similarity",
         "rawType": "float64",
         "type": "float"
        }
       ],
       "conversionMethod": "pd.DataFrame",
       "ref": "acd46a97-be1d-424c-9895-5e864df1ba8e",
       "rows": [
        [
         "0",
         "pulled",
         "0.3811652660369873"
        ],
        [
         "1",
         "baserunners",
         "0.37063536047935486"
        ],
        [
         "2",
         "picking",
         "0.36176878213882446"
        ],
        [
         "3",
         "scraped",
         "0.3572391867637634"
        ],
        [
         "4",
         "bounced",
         "0.3530743420124054"
        ],
        [
         "5",
         "isp",
         "0.3527516722679138"
        ],
        [
         "6",
         "thrown",
         "0.35052159428596497"
        ],
        [
         "7",
         "northwards",
         "0.34756457805633545"
        ],
        [
         "8",
         "lighted",
         "0.34653452038764954"
        ],
        [
         "9",
         "sped",
         "0.3442123830318451"
        ]
       ],
       "shape": {
        "columns": 2,
        "rows": 10
       }
      },
      "text/html": [
       "<div>\n",
       "<style scoped>\n",
       "    .dataframe tbody tr th:only-of-type {\n",
       "        vertical-align: middle;\n",
       "    }\n",
       "\n",
       "    .dataframe tbody tr th {\n",
       "        vertical-align: top;\n",
       "    }\n",
       "\n",
       "    .dataframe thead th {\n",
       "        text-align: right;\n",
       "    }\n",
       "</style>\n",
       "<table border=\"1\" class=\"dataframe\">\n",
       "  <thead>\n",
       "    <tr style=\"text-align: right;\">\n",
       "      <th></th>\n",
       "      <th>Word</th>\n",
       "      <th>Similarity</th>\n",
       "    </tr>\n",
       "  </thead>\n",
       "  <tbody>\n",
       "    <tr>\n",
       "      <th>0</th>\n",
       "      <td>pulled</td>\n",
       "      <td>0.381165</td>\n",
       "    </tr>\n",
       "    <tr>\n",
       "      <th>1</th>\n",
       "      <td>baserunners</td>\n",
       "      <td>0.370635</td>\n",
       "    </tr>\n",
       "    <tr>\n",
       "      <th>2</th>\n",
       "      <td>picking</td>\n",
       "      <td>0.361769</td>\n",
       "    </tr>\n",
       "    <tr>\n",
       "      <th>3</th>\n",
       "      <td>scraped</td>\n",
       "      <td>0.357239</td>\n",
       "    </tr>\n",
       "    <tr>\n",
       "      <th>4</th>\n",
       "      <td>bounced</td>\n",
       "      <td>0.353074</td>\n",
       "    </tr>\n",
       "    <tr>\n",
       "      <th>5</th>\n",
       "      <td>isp</td>\n",
       "      <td>0.352752</td>\n",
       "    </tr>\n",
       "    <tr>\n",
       "      <th>6</th>\n",
       "      <td>thrown</td>\n",
       "      <td>0.350522</td>\n",
       "    </tr>\n",
       "    <tr>\n",
       "      <th>7</th>\n",
       "      <td>northwards</td>\n",
       "      <td>0.347565</td>\n",
       "    </tr>\n",
       "    <tr>\n",
       "      <th>8</th>\n",
       "      <td>lighted</td>\n",
       "      <td>0.346535</td>\n",
       "    </tr>\n",
       "    <tr>\n",
       "      <th>9</th>\n",
       "      <td>sped</td>\n",
       "      <td>0.344212</td>\n",
       "    </tr>\n",
       "  </tbody>\n",
       "</table>\n",
       "</div>"
      ],
      "text/plain": [
       "          Word  Similarity\n",
       "0       pulled    0.381165\n",
       "1  baserunners    0.370635\n",
       "2      picking    0.361769\n",
       "3      scraped    0.357239\n",
       "4      bounced    0.353074\n",
       "5          isp    0.352752\n",
       "6       thrown    0.350522\n",
       "7   northwards    0.347565\n",
       "8      lighted    0.346535\n",
       "9         sped    0.344212"
      ]
     },
     "metadata": {},
     "output_type": "display_data"
    },
    {
     "name": "stdout",
     "output_type": "stream",
     "text": [
      "2025-04-15 16:20:46 | DropoutDisco | INFO     | [3022521770.py:40] | Finding nearest neighbors for 'apple'...\n",
      "\n",
      "--- Top 10 most similar words to 'apple' --- \n"
     ]
    },
    {
     "data": {
      "application/vnd.microsoft.datawrangler.viewer.v0+json": {
       "columns": [
        {
         "name": "index",
         "rawType": "int64",
         "type": "integer"
        },
        {
         "name": "Word",
         "rawType": "object",
         "type": "string"
        },
        {
         "name": "Similarity",
         "rawType": "float64",
         "type": "float"
        }
       ],
       "conversionMethod": "pd.DataFrame",
       "ref": "2f85b46c-32e5-44dc-9aa5-6bc4bc7cb7c9",
       "rows": [
        [
         "0",
         "macintosh",
         "0.5184731483459473"
        ],
        [
         "1",
         "intel",
         "0.4529540538787842"
        ],
        [
         "2",
         "hardware",
         "0.43608132004737854"
        ],
        [
         "3",
         "atari",
         "0.4310804009437561"
        ],
        [
         "4",
         "diablo",
         "0.4103512167930603"
        ],
        [
         "5",
         "iic",
         "0.4095577001571655"
        ],
        [
         "6",
         "amiga",
         "0.4092218279838562"
        ],
        [
         "7",
         "software",
         "0.3886008858680725"
        ],
        [
         "8",
         "codec",
         "0.38772833347320557"
        ],
        [
         "9",
         "nintendo",
         "0.3834853172302246"
        ]
       ],
       "shape": {
        "columns": 2,
        "rows": 10
       }
      },
      "text/html": [
       "<div>\n",
       "<style scoped>\n",
       "    .dataframe tbody tr th:only-of-type {\n",
       "        vertical-align: middle;\n",
       "    }\n",
       "\n",
       "    .dataframe tbody tr th {\n",
       "        vertical-align: top;\n",
       "    }\n",
       "\n",
       "    .dataframe thead th {\n",
       "        text-align: right;\n",
       "    }\n",
       "</style>\n",
       "<table border=\"1\" class=\"dataframe\">\n",
       "  <thead>\n",
       "    <tr style=\"text-align: right;\">\n",
       "      <th></th>\n",
       "      <th>Word</th>\n",
       "      <th>Similarity</th>\n",
       "    </tr>\n",
       "  </thead>\n",
       "  <tbody>\n",
       "    <tr>\n",
       "      <th>0</th>\n",
       "      <td>macintosh</td>\n",
       "      <td>0.518473</td>\n",
       "    </tr>\n",
       "    <tr>\n",
       "      <th>1</th>\n",
       "      <td>intel</td>\n",
       "      <td>0.452954</td>\n",
       "    </tr>\n",
       "    <tr>\n",
       "      <th>2</th>\n",
       "      <td>hardware</td>\n",
       "      <td>0.436081</td>\n",
       "    </tr>\n",
       "    <tr>\n",
       "      <th>3</th>\n",
       "      <td>atari</td>\n",
       "      <td>0.431080</td>\n",
       "    </tr>\n",
       "    <tr>\n",
       "      <th>4</th>\n",
       "      <td>diablo</td>\n",
       "      <td>0.410351</td>\n",
       "    </tr>\n",
       "    <tr>\n",
       "      <th>5</th>\n",
       "      <td>iic</td>\n",
       "      <td>0.409558</td>\n",
       "    </tr>\n",
       "    <tr>\n",
       "      <th>6</th>\n",
       "      <td>amiga</td>\n",
       "      <td>0.409222</td>\n",
       "    </tr>\n",
       "    <tr>\n",
       "      <th>7</th>\n",
       "      <td>software</td>\n",
       "      <td>0.388601</td>\n",
       "    </tr>\n",
       "    <tr>\n",
       "      <th>8</th>\n",
       "      <td>codec</td>\n",
       "      <td>0.387728</td>\n",
       "    </tr>\n",
       "    <tr>\n",
       "      <th>9</th>\n",
       "      <td>nintendo</td>\n",
       "      <td>0.383485</td>\n",
       "    </tr>\n",
       "  </tbody>\n",
       "</table>\n",
       "</div>"
      ],
      "text/plain": [
       "        Word  Similarity\n",
       "0  macintosh    0.518473\n",
       "1      intel    0.452954\n",
       "2   hardware    0.436081\n",
       "3      atari    0.431080\n",
       "4     diablo    0.410351\n",
       "5        iic    0.409558\n",
       "6      amiga    0.409222\n",
       "7   software    0.388601\n",
       "8      codec    0.387728\n",
       "9   nintendo    0.383485"
      ]
     },
     "metadata": {},
     "output_type": "display_data"
    },
    {
     "name": "stdout",
     "output_type": "stream",
     "text": [
      "2025-04-15 16:20:46 | DropoutDisco | INFO     | [3022521770.py:40] | Finding nearest neighbors for 'man'...\n",
      "\n",
      "--- Top 10 most similar words to 'man' --- \n"
     ]
    },
    {
     "data": {
      "application/vnd.microsoft.datawrangler.viewer.v0+json": {
       "columns": [
        {
         "name": "index",
         "rawType": "int64",
         "type": "integer"
        },
        {
         "name": "Word",
         "rawType": "object",
         "type": "string"
        },
        {
         "name": "Similarity",
         "rawType": "float64",
         "type": "float"
        }
       ],
       "conversionMethod": "pd.DataFrame",
       "ref": "443957b9-36eb-4a57-ba1b-c13bca648460",
       "rows": [
        [
         "0",
         "woman",
         "0.40882593393325806"
        ],
        [
         "1",
         "someone",
         "0.3817548453807831"
        ],
        [
         "2",
         "teacher",
         "0.3633228540420532"
        ],
        [
         "3",
         "person",
         "0.36255937814712524"
        ],
        [
         "4",
         "sheared",
         "0.36059361696243286"
        ],
        [
         "5",
         "alia",
         "0.3516997992992401"
        ],
        [
         "6",
         "evil",
         "0.34292083978652954"
        ],
        [
         "7",
         "fashioned",
         "0.3420524299144745"
        ],
        [
         "8",
         "gift",
         "0.33949053287506104"
        ],
        [
         "9",
         "glory",
         "0.33916178345680237"
        ]
       ],
       "shape": {
        "columns": 2,
        "rows": 10
       }
      },
      "text/html": [
       "<div>\n",
       "<style scoped>\n",
       "    .dataframe tbody tr th:only-of-type {\n",
       "        vertical-align: middle;\n",
       "    }\n",
       "\n",
       "    .dataframe tbody tr th {\n",
       "        vertical-align: top;\n",
       "    }\n",
       "\n",
       "    .dataframe thead th {\n",
       "        text-align: right;\n",
       "    }\n",
       "</style>\n",
       "<table border=\"1\" class=\"dataframe\">\n",
       "  <thead>\n",
       "    <tr style=\"text-align: right;\">\n",
       "      <th></th>\n",
       "      <th>Word</th>\n",
       "      <th>Similarity</th>\n",
       "    </tr>\n",
       "  </thead>\n",
       "  <tbody>\n",
       "    <tr>\n",
       "      <th>0</th>\n",
       "      <td>woman</td>\n",
       "      <td>0.408826</td>\n",
       "    </tr>\n",
       "    <tr>\n",
       "      <th>1</th>\n",
       "      <td>someone</td>\n",
       "      <td>0.381755</td>\n",
       "    </tr>\n",
       "    <tr>\n",
       "      <th>2</th>\n",
       "      <td>teacher</td>\n",
       "      <td>0.363323</td>\n",
       "    </tr>\n",
       "    <tr>\n",
       "      <th>3</th>\n",
       "      <td>person</td>\n",
       "      <td>0.362559</td>\n",
       "    </tr>\n",
       "    <tr>\n",
       "      <th>4</th>\n",
       "      <td>sheared</td>\n",
       "      <td>0.360594</td>\n",
       "    </tr>\n",
       "    <tr>\n",
       "      <th>5</th>\n",
       "      <td>alia</td>\n",
       "      <td>0.351700</td>\n",
       "    </tr>\n",
       "    <tr>\n",
       "      <th>6</th>\n",
       "      <td>evil</td>\n",
       "      <td>0.342921</td>\n",
       "    </tr>\n",
       "    <tr>\n",
       "      <th>7</th>\n",
       "      <td>fashioned</td>\n",
       "      <td>0.342052</td>\n",
       "    </tr>\n",
       "    <tr>\n",
       "      <th>8</th>\n",
       "      <td>gift</td>\n",
       "      <td>0.339491</td>\n",
       "    </tr>\n",
       "    <tr>\n",
       "      <th>9</th>\n",
       "      <td>glory</td>\n",
       "      <td>0.339162</td>\n",
       "    </tr>\n",
       "  </tbody>\n",
       "</table>\n",
       "</div>"
      ],
      "text/plain": [
       "        Word  Similarity\n",
       "0      woman    0.408826\n",
       "1    someone    0.381755\n",
       "2    teacher    0.363323\n",
       "3     person    0.362559\n",
       "4    sheared    0.360594\n",
       "5       alia    0.351700\n",
       "6       evil    0.342921\n",
       "7  fashioned    0.342052\n",
       "8       gift    0.339491\n",
       "9      glory    0.339162"
      ]
     },
     "metadata": {},
     "output_type": "display_data"
    }
   ],
   "source": [
    "# --- Test Nearest Neighbors --- \n",
    "test_words = ['king', 'computer', 'france', 'history', 'running', 'apple', 'man']\n",
    "\n",
    "if embedding_matrix is not None:\n",
    "    for word in test_words:\n",
    "        find_nearest_neighbors(word, top_n=10)\n",
    "else:\n",
    "    logger.error(\"Cannot run nearest neighbors: Embeddings not loaded.\")\n"
   ]
  },
  {
   "cell_type": "code",
   "execution_count": 5,
   "id": "0699368b",
   "metadata": {},
   "outputs": [
    {
     "name": "stdout",
     "output_type": "stream",
     "text": [
      "2025-04-15 16:20:47 | DropoutDisco | INFO     | [3022521770.py:83] | Performing analogy: 'king' - 'man' + 'woman' = ?\n",
      "\n",
      "--- Top 5 analogy results --- \n"
     ]
    },
    {
     "data": {
      "application/vnd.microsoft.datawrangler.viewer.v0+json": {
       "columns": [
        {
         "name": "index",
         "rawType": "int64",
         "type": "integer"
        },
        {
         "name": "Word",
         "rawType": "object",
         "type": "string"
        },
        {
         "name": "Similarity",
         "rawType": "float64",
         "type": "float"
        }
       ],
       "conversionMethod": "pd.DataFrame",
       "ref": "72e4bf52-5934-4976-a406-13f581aed5cf",
       "rows": [
        [
         "0",
         "mackay",
         "0.3961438536643982"
        ],
        [
         "1",
         "mentewab",
         "0.3775668144226074"
        ],
        [
         "2",
         "alphonse",
         "0.3761487603187561"
        ],
        [
         "3",
         "wife",
         "0.36403074860572815"
        ],
        [
         "4",
         "appointment",
         "0.36366894841194153"
        ]
       ],
       "shape": {
        "columns": 2,
        "rows": 5
       }
      },
      "text/html": [
       "<div>\n",
       "<style scoped>\n",
       "    .dataframe tbody tr th:only-of-type {\n",
       "        vertical-align: middle;\n",
       "    }\n",
       "\n",
       "    .dataframe tbody tr th {\n",
       "        vertical-align: top;\n",
       "    }\n",
       "\n",
       "    .dataframe thead th {\n",
       "        text-align: right;\n",
       "    }\n",
       "</style>\n",
       "<table border=\"1\" class=\"dataframe\">\n",
       "  <thead>\n",
       "    <tr style=\"text-align: right;\">\n",
       "      <th></th>\n",
       "      <th>Word</th>\n",
       "      <th>Similarity</th>\n",
       "    </tr>\n",
       "  </thead>\n",
       "  <tbody>\n",
       "    <tr>\n",
       "      <th>0</th>\n",
       "      <td>mackay</td>\n",
       "      <td>0.396144</td>\n",
       "    </tr>\n",
       "    <tr>\n",
       "      <th>1</th>\n",
       "      <td>mentewab</td>\n",
       "      <td>0.377567</td>\n",
       "    </tr>\n",
       "    <tr>\n",
       "      <th>2</th>\n",
       "      <td>alphonse</td>\n",
       "      <td>0.376149</td>\n",
       "    </tr>\n",
       "    <tr>\n",
       "      <th>3</th>\n",
       "      <td>wife</td>\n",
       "      <td>0.364031</td>\n",
       "    </tr>\n",
       "    <tr>\n",
       "      <th>4</th>\n",
       "      <td>appointment</td>\n",
       "      <td>0.363669</td>\n",
       "    </tr>\n",
       "  </tbody>\n",
       "</table>\n",
       "</div>"
      ],
      "text/plain": [
       "          Word  Similarity\n",
       "0       mackay    0.396144\n",
       "1     mentewab    0.377567\n",
       "2     alphonse    0.376149\n",
       "3         wife    0.364031\n",
       "4  appointment    0.363669"
      ]
     },
     "metadata": {},
     "output_type": "display_data"
    },
    {
     "name": "stdout",
     "output_type": "stream",
     "text": [
      "2025-04-15 16:20:47 | DropoutDisco | INFO     | [3022521770.py:83] | Performing analogy: 'paris' - 'france' + 'germany' = ?\n",
      "\n",
      "--- Top 5 analogy results --- \n"
     ]
    },
    {
     "data": {
      "application/vnd.microsoft.datawrangler.viewer.v0+json": {
       "columns": [
        {
         "name": "index",
         "rawType": "int64",
         "type": "integer"
        },
        {
         "name": "Word",
         "rawType": "object",
         "type": "string"
        },
        {
         "name": "Similarity",
         "rawType": "float64",
         "type": "float"
        }
       ],
       "conversionMethod": "pd.DataFrame",
       "ref": "299e6118-1444-4066-916e-a662aacb9a24",
       "rows": [
        [
         "0",
         "berlin",
         "0.4407760500907898"
        ],
        [
         "1",
         "canova",
         "0.34951090812683105"
        ],
        [
         "2",
         "lymec",
         "0.34823739528656006"
        ],
        [
         "3",
         "cologne",
         "0.340313196182251"
        ],
        [
         "4",
         "headquarters",
         "0.3345971703529358"
        ]
       ],
       "shape": {
        "columns": 2,
        "rows": 5
       }
      },
      "text/html": [
       "<div>\n",
       "<style scoped>\n",
       "    .dataframe tbody tr th:only-of-type {\n",
       "        vertical-align: middle;\n",
       "    }\n",
       "\n",
       "    .dataframe tbody tr th {\n",
       "        vertical-align: top;\n",
       "    }\n",
       "\n",
       "    .dataframe thead th {\n",
       "        text-align: right;\n",
       "    }\n",
       "</style>\n",
       "<table border=\"1\" class=\"dataframe\">\n",
       "  <thead>\n",
       "    <tr style=\"text-align: right;\">\n",
       "      <th></th>\n",
       "      <th>Word</th>\n",
       "      <th>Similarity</th>\n",
       "    </tr>\n",
       "  </thead>\n",
       "  <tbody>\n",
       "    <tr>\n",
       "      <th>0</th>\n",
       "      <td>berlin</td>\n",
       "      <td>0.440776</td>\n",
       "    </tr>\n",
       "    <tr>\n",
       "      <th>1</th>\n",
       "      <td>canova</td>\n",
       "      <td>0.349511</td>\n",
       "    </tr>\n",
       "    <tr>\n",
       "      <th>2</th>\n",
       "      <td>lymec</td>\n",
       "      <td>0.348237</td>\n",
       "    </tr>\n",
       "    <tr>\n",
       "      <th>3</th>\n",
       "      <td>cologne</td>\n",
       "      <td>0.340313</td>\n",
       "    </tr>\n",
       "    <tr>\n",
       "      <th>4</th>\n",
       "      <td>headquarters</td>\n",
       "      <td>0.334597</td>\n",
       "    </tr>\n",
       "  </tbody>\n",
       "</table>\n",
       "</div>"
      ],
      "text/plain": [
       "           Word  Similarity\n",
       "0        berlin    0.440776\n",
       "1        canova    0.349511\n",
       "2         lymec    0.348237\n",
       "3       cologne    0.340313\n",
       "4  headquarters    0.334597"
      ]
     },
     "metadata": {},
     "output_type": "display_data"
    },
    {
     "name": "stdout",
     "output_type": "stream",
     "text": [
      "2025-04-15 16:20:47 | DropoutDisco | INFO     | [3022521770.py:83] | Performing analogy: 'walking' - 'walked' + 'swimming' = ?\n",
      "\n",
      "--- Top 5 analogy results --- \n"
     ]
    },
    {
     "data": {
      "application/vnd.microsoft.datawrangler.viewer.v0+json": {
       "columns": [
        {
         "name": "index",
         "rawType": "int64",
         "type": "integer"
        },
        {
         "name": "Word",
         "rawType": "object",
         "type": "string"
        },
        {
         "name": "Similarity",
         "rawType": "float64",
         "type": "float"
        }
       ],
       "conversionMethod": "pd.DataFrame",
       "ref": "023d7508-5825-4842-a052-bcc2d0f2bbf6",
       "rows": [
        [
         "0",
         "backpack",
         "0.39293181896209717"
        ],
        [
         "1",
         "processed",
         "0.36365750432014465"
        ],
        [
         "2",
         "tumbling",
         "0.36151713132858276"
        ],
        [
         "3",
         "equestrian",
         "0.3505936861038208"
        ],
        [
         "4",
         "overworld",
         "0.3489189147949219"
        ]
       ],
       "shape": {
        "columns": 2,
        "rows": 5
       }
      },
      "text/html": [
       "<div>\n",
       "<style scoped>\n",
       "    .dataframe tbody tr th:only-of-type {\n",
       "        vertical-align: middle;\n",
       "    }\n",
       "\n",
       "    .dataframe tbody tr th {\n",
       "        vertical-align: top;\n",
       "    }\n",
       "\n",
       "    .dataframe thead th {\n",
       "        text-align: right;\n",
       "    }\n",
       "</style>\n",
       "<table border=\"1\" class=\"dataframe\">\n",
       "  <thead>\n",
       "    <tr style=\"text-align: right;\">\n",
       "      <th></th>\n",
       "      <th>Word</th>\n",
       "      <th>Similarity</th>\n",
       "    </tr>\n",
       "  </thead>\n",
       "  <tbody>\n",
       "    <tr>\n",
       "      <th>0</th>\n",
       "      <td>backpack</td>\n",
       "      <td>0.392932</td>\n",
       "    </tr>\n",
       "    <tr>\n",
       "      <th>1</th>\n",
       "      <td>processed</td>\n",
       "      <td>0.363658</td>\n",
       "    </tr>\n",
       "    <tr>\n",
       "      <th>2</th>\n",
       "      <td>tumbling</td>\n",
       "      <td>0.361517</td>\n",
       "    </tr>\n",
       "    <tr>\n",
       "      <th>3</th>\n",
       "      <td>equestrian</td>\n",
       "      <td>0.350594</td>\n",
       "    </tr>\n",
       "    <tr>\n",
       "      <th>4</th>\n",
       "      <td>overworld</td>\n",
       "      <td>0.348919</td>\n",
       "    </tr>\n",
       "  </tbody>\n",
       "</table>\n",
       "</div>"
      ],
      "text/plain": [
       "         Word  Similarity\n",
       "0    backpack    0.392932\n",
       "1   processed    0.363658\n",
       "2    tumbling    0.361517\n",
       "3  equestrian    0.350594\n",
       "4   overworld    0.348919"
      ]
     },
     "metadata": {},
     "output_type": "display_data"
    },
    {
     "name": "stdout",
     "output_type": "stream",
     "text": [
      "2025-04-15 16:20:47 | DropoutDisco | INFO     | [3022521770.py:83] | Performing analogy: 'big' - 'bigger' + 'small' = ?\n",
      "\n",
      "--- Top 5 analogy results --- \n"
     ]
    },
    {
     "data": {
      "application/vnd.microsoft.datawrangler.viewer.v0+json": {
       "columns": [
        {
         "name": "index",
         "rawType": "int64",
         "type": "integer"
        },
        {
         "name": "Word",
         "rawType": "object",
         "type": "string"
        },
        {
         "name": "Similarity",
         "rawType": "float64",
         "type": "float"
        }
       ],
       "conversionMethod": "pd.DataFrame",
       "ref": "57fb872a-4944-425b-a42c-3b91871c292c",
       "rows": [
        [
         "0",
         "large",
         "0.39831894636154175"
        ],
        [
         "1",
         "cedar",
         "0.3557124435901642"
        ],
        [
         "2",
         "centro",
         "0.34718358516693115"
        ],
        [
         "3",
         "northwest",
         "0.33924180269241333"
        ],
        [
         "4",
         "haldeman",
         "0.3324376046657562"
        ]
       ],
       "shape": {
        "columns": 2,
        "rows": 5
       }
      },
      "text/html": [
       "<div>\n",
       "<style scoped>\n",
       "    .dataframe tbody tr th:only-of-type {\n",
       "        vertical-align: middle;\n",
       "    }\n",
       "\n",
       "    .dataframe tbody tr th {\n",
       "        vertical-align: top;\n",
       "    }\n",
       "\n",
       "    .dataframe thead th {\n",
       "        text-align: right;\n",
       "    }\n",
       "</style>\n",
       "<table border=\"1\" class=\"dataframe\">\n",
       "  <thead>\n",
       "    <tr style=\"text-align: right;\">\n",
       "      <th></th>\n",
       "      <th>Word</th>\n",
       "      <th>Similarity</th>\n",
       "    </tr>\n",
       "  </thead>\n",
       "  <tbody>\n",
       "    <tr>\n",
       "      <th>0</th>\n",
       "      <td>large</td>\n",
       "      <td>0.398319</td>\n",
       "    </tr>\n",
       "    <tr>\n",
       "      <th>1</th>\n",
       "      <td>cedar</td>\n",
       "      <td>0.355712</td>\n",
       "    </tr>\n",
       "    <tr>\n",
       "      <th>2</th>\n",
       "      <td>centro</td>\n",
       "      <td>0.347184</td>\n",
       "    </tr>\n",
       "    <tr>\n",
       "      <th>3</th>\n",
       "      <td>northwest</td>\n",
       "      <td>0.339242</td>\n",
       "    </tr>\n",
       "    <tr>\n",
       "      <th>4</th>\n",
       "      <td>haldeman</td>\n",
       "      <td>0.332438</td>\n",
       "    </tr>\n",
       "  </tbody>\n",
       "</table>\n",
       "</div>"
      ],
      "text/plain": [
       "        Word  Similarity\n",
       "0      large    0.398319\n",
       "1      cedar    0.355712\n",
       "2     centro    0.347184\n",
       "3  northwest    0.339242\n",
       "4   haldeman    0.332438"
      ]
     },
     "metadata": {},
     "output_type": "display_data"
    },
    {
     "name": "stdout",
     "output_type": "stream",
     "text": [
      "2025-04-15 16:20:47 | DropoutDisco | INFO     | [3022521770.py:83] | Performing analogy: 'cold' - 'colder' + 'hot' = ?\n",
      "\n",
      "--- Top 5 analogy results --- \n"
     ]
    },
    {
     "data": {
      "application/vnd.microsoft.datawrangler.viewer.v0+json": {
       "columns": [
        {
         "name": "index",
         "rawType": "int64",
         "type": "integer"
        },
        {
         "name": "Word",
         "rawType": "object",
         "type": "string"
        },
        {
         "name": "Similarity",
         "rawType": "float64",
         "type": "float"
        }
       ],
       "conversionMethod": "pd.DataFrame",
       "ref": "2e0694b6-9f9d-4961-ae74-8b530682c44d",
       "rows": [
        [
         "0",
         "aq",
         "0.3687925934791565"
        ],
        [
         "1",
         "kosovo",
         "0.36285895109176636"
        ],
        [
         "2",
         "filling",
         "0.3562384843826294"
        ],
        [
         "3",
         "attrition",
         "0.3425099551677704"
        ],
        [
         "4",
         "solstice",
         "0.3422146737575531"
        ]
       ],
       "shape": {
        "columns": 2,
        "rows": 5
       }
      },
      "text/html": [
       "<div>\n",
       "<style scoped>\n",
       "    .dataframe tbody tr th:only-of-type {\n",
       "        vertical-align: middle;\n",
       "    }\n",
       "\n",
       "    .dataframe tbody tr th {\n",
       "        vertical-align: top;\n",
       "    }\n",
       "\n",
       "    .dataframe thead th {\n",
       "        text-align: right;\n",
       "    }\n",
       "</style>\n",
       "<table border=\"1\" class=\"dataframe\">\n",
       "  <thead>\n",
       "    <tr style=\"text-align: right;\">\n",
       "      <th></th>\n",
       "      <th>Word</th>\n",
       "      <th>Similarity</th>\n",
       "    </tr>\n",
       "  </thead>\n",
       "  <tbody>\n",
       "    <tr>\n",
       "      <th>0</th>\n",
       "      <td>aq</td>\n",
       "      <td>0.368793</td>\n",
       "    </tr>\n",
       "    <tr>\n",
       "      <th>1</th>\n",
       "      <td>kosovo</td>\n",
       "      <td>0.362859</td>\n",
       "    </tr>\n",
       "    <tr>\n",
       "      <th>2</th>\n",
       "      <td>filling</td>\n",
       "      <td>0.356238</td>\n",
       "    </tr>\n",
       "    <tr>\n",
       "      <th>3</th>\n",
       "      <td>attrition</td>\n",
       "      <td>0.342510</td>\n",
       "    </tr>\n",
       "    <tr>\n",
       "      <th>4</th>\n",
       "      <td>solstice</td>\n",
       "      <td>0.342215</td>\n",
       "    </tr>\n",
       "  </tbody>\n",
       "</table>\n",
       "</div>"
      ],
      "text/plain": [
       "        Word  Similarity\n",
       "0         aq    0.368793\n",
       "1     kosovo    0.362859\n",
       "2    filling    0.356238\n",
       "3  attrition    0.342510\n",
       "4   solstice    0.342215"
      ]
     },
     "metadata": {},
     "output_type": "display_data"
    }
   ],
   "source": [
    "# --- Test Word Analogies --- \n",
    "analogies = [\n",
    "    ('king', 'man', 'woman'),    # Target: queen\n",
    "    ('paris', 'france', 'germany'), # Target: berlin\n",
    "    ('walking', 'walked', 'swimming'), # Target: swam\n",
    "    ('big', 'bigger', 'small'),   # Target: smaller\n",
    "    ('cold', 'colder', 'hot')    # Target: hotter\n",
    "]\n",
    "\n",
    "if embedding_matrix is not None:\n",
    "    for a, b, c in analogies:\n",
    "        word_analogy(a, b, c, top_n=5)\n",
    "else:\n",
    "    logger.error(\"Cannot run analogies: Embeddings not loaded.\")"
   ]
  }
 ],
 "metadata": {
  "kernelspec": {
   "display_name": ".venv",
   "language": "python",
   "name": "python3"
  },
  "language_info": {
   "codemirror_mode": {
    "name": "ipython",
    "version": 3
   },
   "file_extension": ".py",
   "mimetype": "text/x-python",
   "name": "python",
   "nbconvert_exporter": "python",
   "pygments_lexer": "ipython3",
   "version": "3.13.1"
  }
 },
 "nbformat": 4,
 "nbformat_minor": 5
}
